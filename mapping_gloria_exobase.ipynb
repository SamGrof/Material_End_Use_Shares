{
 "cells": [
  {
   "cell_type": "code",
   "execution_count": 17,
   "metadata": {
    "collapsed": true,
    "ExecuteTime": {
     "start_time": "2023-05-10T10:41:31.131534Z",
     "end_time": "2023-05-10T10:41:31.136121Z"
    }
   },
   "outputs": [],
   "source": [
    "import glob\n",
    "import os\n",
    "import re\n",
    "import pandas as pd"
   ]
  },
  {
   "cell_type": "markdown",
   "source": [
    "1) Könntest du, die GLORIA end-use shares, angehängt als csv pro Land-Jahr und\n",
    "darin dann pro Material-End-Use a) laden und ausspucken als csv pro Land in dem\n",
    "je Material ein Tab gibt, in dem die end-use-shares pro end-use von 1990-2020 assmbled sind\n",
    "und für diese b) dann ein skript schreiben, wo man die für selektierte länder über die Zeit\n",
    "mappen kann? Am besten multiplots mit vielen panels. (siehe end-use paper 2, anhang). Wäre super.\n",
    "\n",
    "2) Ich würde die GLORIA end-use shares gerne in die plots meines end-use share papers mappen.\n",
    "Das repo dazu kennst du ja schon. Wir können die dadurch mit Daten aus zwei anderen Datenquellen\n",
    "vergleichen (für die USA mit nationalen Daten und für 45 andere Länder mit Daten einer anderen globalen\n",
    "database)\n",
    "\n",
    "p.s. GLORIA ist eine globale database an 'input-output tabellen', aus denen man die end-use shares berechnen\n",
    "kann; genauso EXIOBASE.\n",
    "\n",
    "Ich übermittle dir für die beiden Tasks:\n",
    "\n",
    "-a die Korrespondenz der GLORIA-EXIOBASE end-uses\n",
    "-b den link zum end-use-paper repo und den plot grafics (sorry die sind ziemlich\n",
    "   zusammengeschustert...) - https://github.com/janstre/Material_End_Use_Shares - das graphics skript ist dieses: https://github.com/janstre/Material_End_Use_Shares/blob/main/EndUseShares_Graphs_Outputs_v1.py\n",
    "-c das end-use paper 2 zur inspiration, wie die plots aussehen könnten. die letzte figure recht\n",
    "weit unten könnte man für das 1) oben nehmen - also so in der art (alle end-uses + jahre in einem\n",
    "plot pro land)\n",
    "-d die end-use share daten von GLORIA"
   ],
   "metadata": {
    "collapsed": false
   }
  },
  {
   "cell_type": "code",
   "execution_count": 93,
   "outputs": [],
   "source": [
    "def create_two_way_correspondences(correspondences):\n",
    "    correspondence_gloria = {}\n",
    "    correspondence_exio = {}\n",
    "    equal_names = {}\n",
    "\n",
    "    for correspondence_dict in correspondences:\n",
    "        end_use_gloria = correspondence_dict[\"GLORIA END_USES\"]\n",
    "        end_use_exio = correspondence_dict[\"EXIOBASE END_USES\"]\n",
    "        if end_use_gloria == end_use_exio:\n",
    "            equal_names[end_use_gloria] = end_use_exio\n",
    "            continue\n",
    "        if end_use_gloria in correspondence_gloria:\n",
    "            correspondence_gloria[end_use_gloria].append(end_use_exio)\n",
    "        else:\n",
    "            correspondence_gloria[end_use_gloria] = [end_use_exio]\n",
    "\n",
    "        if end_use_exio in correspondence_exio:\n",
    "            correspondence_exio[end_use_exio].append(end_use_gloria)\n",
    "        else:\n",
    "            correspondence_exio[end_use_exio] = [end_use_gloria]\n",
    "\n",
    "    return correspondence_gloria, correspondence_exio, equal_names\n",
    "\n",
    "def combine_enduse_from_csv(csv_files):\n",
    "    enduse_dfs = []\n",
    "    for csv_file in csv_files:\n",
    "        country_name = re.search(r\"_([^_]+)\\.csv\", csv_file).group(1)\n",
    "        year = re.search(r\"(\\d{4})\", csv_file).group()\n",
    "        df = pd.read_csv(csv_file)\n",
    "        df[\"country\"] = country_name\n",
    "        df[\"year\"] = year\n",
    "        enduse_dfs.append(df)\n",
    "    all_enduses = pd.concat(enduse_dfs)\n",
    "\n",
    "    return all_enduses\n",
    "\n",
    "def map_gloria_to_exio_enduses(all_enduses):\n",
    "    all_enduses_mapped = all_enduses.copy()\n",
    "\n",
    "    for gloria_enduse, exio_enduse_list in correspondence_gloria_to_exio.items():\n",
    "        if len(exio_enduse_list) > 1:\n",
    "            new_colum_name = ','.join(exio_enduse_list)\n",
    "        if len(exio_enduse_list) == 1:\n",
    "            new_colum_name = exio_enduse_list[0]\n",
    "            if new_colum_name not in all_enduses_mapped.columns:\n",
    "                all_enduses_mapped = all_enduses_mapped.rename(columns={gloria_enduse: new_colum_name})\n",
    "                print(f\"Renamed {gloria_enduse} to {new_colum_name}\")\n",
    "            else:\n",
    "                all_enduses_mapped[new_colum_name] += all_enduses_mapped[gloria_enduse]\n",
    "                all_enduses_mapped = all_enduses_mapped.drop(columns=gloria_enduse)\n",
    "    return all_enduses_mapped"
   ],
   "metadata": {
    "collapsed": false,
    "ExecuteTime": {
     "start_time": "2023-05-10T14:21:19.172382Z",
     "end_time": "2023-05-10T14:21:19.177973Z"
    }
   }
  },
  {
   "cell_type": "code",
   "execution_count": 94,
   "outputs": [],
   "source": [
    "gloria_csv_path = os.path.join(os.getcwd(), \"input_data\", \"GLORIA_basic_WIO_MF_EUT_end_use_shares_4_crosschecking\")\n",
    "csv_glob = os.path.join(gloria_csv_path, \"*.csv\")\n",
    "csv_files = glob.glob(csv_glob)"
   ],
   "metadata": {
    "collapsed": false,
    "ExecuteTime": {
     "start_time": "2023-05-10T14:21:19.657055Z",
     "end_time": "2023-05-10T14:21:19.705673Z"
    }
   }
  },
  {
   "cell_type": "code",
   "execution_count": 95,
   "outputs": [],
   "source": [
    "all_enduses = combine_enduse_from_csv(csv_files)"
   ],
   "metadata": {
    "collapsed": false,
    "ExecuteTime": {
     "start_time": "2023-05-10T14:21:20.101905Z",
     "end_time": "2023-05-10T14:21:26.926396Z"
    }
   }
  },
  {
   "cell_type": "code",
   "execution_count": 96,
   "outputs": [
    {
     "data": {
      "text/plain": "  MISO_material                             GLORIA_material  Buildings  \\\n0      Concrete           Cement, lime and plaster products  14.091759   \n1        Bricks  Other non-metallic mineral products n.e.c.  37.552014   \n2     Container  Other non-metallic mineral products n.e.c.  37.552014   \n3          Flat  Other non-metallic mineral products n.e.c.  37.552014   \n4     IronSteel                        Basic iron and steel  11.287009   \n\n   Civil_engineering_except_roads  Machinery_and_equipment  \\\n0                       23.344272                 0.788621   \n1                       55.808473                 1.932281   \n2                       55.808473                 1.932281   \n3                       55.808473                 1.932281   \n4                       17.076661                34.701894   \n\n   Computers_and_precision_instruments  Electrical_equipment  \\\n0                             0.585482              1.568394   \n1                             0.918958              0.168100   \n2                             0.918958              0.168100   \n3                             0.918958              0.168100   \n4                             1.985010              6.949625   \n\n   Motor_vehicles_trailers_and_semi.trailers  Other_transport_equipment  \\\n0                                   0.096311                   0.306157   \n1                                   0.147755                   0.478827   \n2                                   0.147755                   0.478827   \n3                                   0.147755                   0.478827   \n4                                   2.479149                   6.598667   \n\n   Furniture_and_other_manufactured_goods_nec  Textiles  \\\n0                                    0.263484  0.718305   \n1                                    0.664282  0.188396   \n2                                    0.664282  0.188396   \n3                                    0.664282  0.188396   \n4                                    5.618581  1.165045   \n\n   Printed_matter_and_recorded_media  Food_packaging  Products_nec  \\\n0                           0.172664       57.347542      0.717009   \n1                           0.164054        1.023425      0.953433   \n2                           0.164054        1.023425      0.953433   \n3                           0.164054        1.023425      0.953433   \n4                           0.953489        9.111869      2.072999   \n\n       country  year  \n0  New Zealand  1997  \n1  New Zealand  1997  \n2  New Zealand  1997  \n3  New Zealand  1997  \n4  New Zealand  1997  ",
      "text/html": "<div>\n<style scoped>\n    .dataframe tbody tr th:only-of-type {\n        vertical-align: middle;\n    }\n\n    .dataframe tbody tr th {\n        vertical-align: top;\n    }\n\n    .dataframe thead th {\n        text-align: right;\n    }\n</style>\n<table border=\"1\" class=\"dataframe\">\n  <thead>\n    <tr style=\"text-align: right;\">\n      <th></th>\n      <th>MISO_material</th>\n      <th>GLORIA_material</th>\n      <th>Buildings</th>\n      <th>Civil_engineering_except_roads</th>\n      <th>Machinery_and_equipment</th>\n      <th>Computers_and_precision_instruments</th>\n      <th>Electrical_equipment</th>\n      <th>Motor_vehicles_trailers_and_semi.trailers</th>\n      <th>Other_transport_equipment</th>\n      <th>Furniture_and_other_manufactured_goods_nec</th>\n      <th>Textiles</th>\n      <th>Printed_matter_and_recorded_media</th>\n      <th>Food_packaging</th>\n      <th>Products_nec</th>\n      <th>country</th>\n      <th>year</th>\n    </tr>\n  </thead>\n  <tbody>\n    <tr>\n      <th>0</th>\n      <td>Concrete</td>\n      <td>Cement, lime and plaster products</td>\n      <td>14.091759</td>\n      <td>23.344272</td>\n      <td>0.788621</td>\n      <td>0.585482</td>\n      <td>1.568394</td>\n      <td>0.096311</td>\n      <td>0.306157</td>\n      <td>0.263484</td>\n      <td>0.718305</td>\n      <td>0.172664</td>\n      <td>57.347542</td>\n      <td>0.717009</td>\n      <td>New Zealand</td>\n      <td>1997</td>\n    </tr>\n    <tr>\n      <th>1</th>\n      <td>Bricks</td>\n      <td>Other non-metallic mineral products n.e.c.</td>\n      <td>37.552014</td>\n      <td>55.808473</td>\n      <td>1.932281</td>\n      <td>0.918958</td>\n      <td>0.168100</td>\n      <td>0.147755</td>\n      <td>0.478827</td>\n      <td>0.664282</td>\n      <td>0.188396</td>\n      <td>0.164054</td>\n      <td>1.023425</td>\n      <td>0.953433</td>\n      <td>New Zealand</td>\n      <td>1997</td>\n    </tr>\n    <tr>\n      <th>2</th>\n      <td>Container</td>\n      <td>Other non-metallic mineral products n.e.c.</td>\n      <td>37.552014</td>\n      <td>55.808473</td>\n      <td>1.932281</td>\n      <td>0.918958</td>\n      <td>0.168100</td>\n      <td>0.147755</td>\n      <td>0.478827</td>\n      <td>0.664282</td>\n      <td>0.188396</td>\n      <td>0.164054</td>\n      <td>1.023425</td>\n      <td>0.953433</td>\n      <td>New Zealand</td>\n      <td>1997</td>\n    </tr>\n    <tr>\n      <th>3</th>\n      <td>Flat</td>\n      <td>Other non-metallic mineral products n.e.c.</td>\n      <td>37.552014</td>\n      <td>55.808473</td>\n      <td>1.932281</td>\n      <td>0.918958</td>\n      <td>0.168100</td>\n      <td>0.147755</td>\n      <td>0.478827</td>\n      <td>0.664282</td>\n      <td>0.188396</td>\n      <td>0.164054</td>\n      <td>1.023425</td>\n      <td>0.953433</td>\n      <td>New Zealand</td>\n      <td>1997</td>\n    </tr>\n    <tr>\n      <th>4</th>\n      <td>IronSteel</td>\n      <td>Basic iron and steel</td>\n      <td>11.287009</td>\n      <td>17.076661</td>\n      <td>34.701894</td>\n      <td>1.985010</td>\n      <td>6.949625</td>\n      <td>2.479149</td>\n      <td>6.598667</td>\n      <td>5.618581</td>\n      <td>1.165045</td>\n      <td>0.953489</td>\n      <td>9.111869</td>\n      <td>2.072999</td>\n      <td>New Zealand</td>\n      <td>1997</td>\n    </tr>\n  </tbody>\n</table>\n</div>"
     },
     "execution_count": 96,
     "metadata": {},
     "output_type": "execute_result"
    }
   ],
   "source": [
    "all_enduses.head()"
   ],
   "metadata": {
    "collapsed": false,
    "ExecuteTime": {
     "start_time": "2023-05-10T14:21:26.931803Z",
     "end_time": "2023-05-10T14:21:26.934599Z"
    }
   }
  },
  {
   "cell_type": "code",
   "execution_count": 27,
   "outputs": [],
   "source": [
    "gloria_exiobase_correspondence = pd.read_excel(os.path.join(\"input_data\", \"2023_GLORIA_EXIOBASE_corresp_aggr.xlsx\"), sheet_name=\"values\")"
   ],
   "metadata": {
    "collapsed": false,
    "ExecuteTime": {
     "start_time": "2023-05-10T10:53:36.972356Z",
     "end_time": "2023-05-10T10:53:37.191439Z"
    }
   }
  },
  {
   "cell_type": "code",
   "execution_count": 39,
   "outputs": [
    {
     "data": {
      "text/plain": "                               GLORIA END_USES  \\\n0                                    Buildings   \n1               Civil_engineering_except_roads   \n2                      Machinery_and_equipment   \n3          Computers_and_precision_instruments   \n4          Computers_and_precision_instruments   \n5          Computers_and_precision_instruments   \n6                         Electrical_equipment   \n7    Motor_vehicles_trailers_and_semi.trailers   \n8                    Other_transport_equipment   \n9   Furniture_and_other_manufactured_goods_nec   \n10                                    Textiles   \n11           Printed_matter_and_recorded_media   \n12                              Food_packaging   \n13                                Products_nec   \n14                                Products_nec   \n15                                Products_nec   \n16                                Products_nec   \n17                                Products_nec   \n18                                Products_nec   \n\n                                    EXIOBASE END_USES  \n0                                        Construction  \n1                                        Construction  \n2                     Machinery and equipment n.e.c.   \n3                      Office machinery and computers  \n4   Radio, television and communication equipment ...  \n5   Medical, precision and optical instruments, wa...  \n6           Electrical machinery and apparatus n.e.c.  \n7          Motor vehicles, trailers and semi-trailers  \n8                           Other transport equipment  \n9          Furniture; other manufactured goods n.e.c.  \n10                                           Textiles  \n11                  Printed matter and recorded media  \n12                                               Food  \n13                                       Products nec  \n14                                Other raw materials  \n15                                Secondary materials  \n16                                    Energy carriers  \n17                                              Other  \n18                                           Services  ",
      "text/html": "<div>\n<style scoped>\n    .dataframe tbody tr th:only-of-type {\n        vertical-align: middle;\n    }\n\n    .dataframe tbody tr th {\n        vertical-align: top;\n    }\n\n    .dataframe thead th {\n        text-align: right;\n    }\n</style>\n<table border=\"1\" class=\"dataframe\">\n  <thead>\n    <tr style=\"text-align: right;\">\n      <th></th>\n      <th>GLORIA END_USES</th>\n      <th>EXIOBASE END_USES</th>\n    </tr>\n  </thead>\n  <tbody>\n    <tr>\n      <th>0</th>\n      <td>Buildings</td>\n      <td>Construction</td>\n    </tr>\n    <tr>\n      <th>1</th>\n      <td>Civil_engineering_except_roads</td>\n      <td>Construction</td>\n    </tr>\n    <tr>\n      <th>2</th>\n      <td>Machinery_and_equipment</td>\n      <td>Machinery and equipment n.e.c.</td>\n    </tr>\n    <tr>\n      <th>3</th>\n      <td>Computers_and_precision_instruments</td>\n      <td>Office machinery and computers</td>\n    </tr>\n    <tr>\n      <th>4</th>\n      <td>Computers_and_precision_instruments</td>\n      <td>Radio, television and communication equipment ...</td>\n    </tr>\n    <tr>\n      <th>5</th>\n      <td>Computers_and_precision_instruments</td>\n      <td>Medical, precision and optical instruments, wa...</td>\n    </tr>\n    <tr>\n      <th>6</th>\n      <td>Electrical_equipment</td>\n      <td>Electrical machinery and apparatus n.e.c.</td>\n    </tr>\n    <tr>\n      <th>7</th>\n      <td>Motor_vehicles_trailers_and_semi.trailers</td>\n      <td>Motor vehicles, trailers and semi-trailers</td>\n    </tr>\n    <tr>\n      <th>8</th>\n      <td>Other_transport_equipment</td>\n      <td>Other transport equipment</td>\n    </tr>\n    <tr>\n      <th>9</th>\n      <td>Furniture_and_other_manufactured_goods_nec</td>\n      <td>Furniture; other manufactured goods n.e.c.</td>\n    </tr>\n    <tr>\n      <th>10</th>\n      <td>Textiles</td>\n      <td>Textiles</td>\n    </tr>\n    <tr>\n      <th>11</th>\n      <td>Printed_matter_and_recorded_media</td>\n      <td>Printed matter and recorded media</td>\n    </tr>\n    <tr>\n      <th>12</th>\n      <td>Food_packaging</td>\n      <td>Food</td>\n    </tr>\n    <tr>\n      <th>13</th>\n      <td>Products_nec</td>\n      <td>Products nec</td>\n    </tr>\n    <tr>\n      <th>14</th>\n      <td>Products_nec</td>\n      <td>Other raw materials</td>\n    </tr>\n    <tr>\n      <th>15</th>\n      <td>Products_nec</td>\n      <td>Secondary materials</td>\n    </tr>\n    <tr>\n      <th>16</th>\n      <td>Products_nec</td>\n      <td>Energy carriers</td>\n    </tr>\n    <tr>\n      <th>17</th>\n      <td>Products_nec</td>\n      <td>Other</td>\n    </tr>\n    <tr>\n      <th>18</th>\n      <td>Products_nec</td>\n      <td>Services</td>\n    </tr>\n  </tbody>\n</table>\n</div>"
     },
     "execution_count": 39,
     "metadata": {},
     "output_type": "execute_result"
    }
   ],
   "source": [
    "gloria_exiobase_correspondence"
   ],
   "metadata": {
    "collapsed": false,
    "ExecuteTime": {
     "start_time": "2023-05-10T10:57:27.307868Z",
     "end_time": "2023-05-10T10:57:27.310023Z"
    }
   }
  },
  {
   "cell_type": "code",
   "execution_count": 44,
   "outputs": [],
   "source": [
    "correspondences = gloria_exiobase_correspondence.to_dict(\"records\")"
   ],
   "metadata": {
    "collapsed": false,
    "ExecuteTime": {
     "start_time": "2023-05-10T10:58:24.833526Z",
     "end_time": "2023-05-10T10:58:24.897532Z"
    }
   }
  },
  {
   "cell_type": "code",
   "execution_count": 63,
   "outputs": [],
   "source": [
    "correspondence_gloria_to_exio, correspondence_exio_to_gloria, equal_names = create_two_way_correspondences(correspondences)"
   ],
   "metadata": {
    "collapsed": false,
    "ExecuteTime": {
     "start_time": "2023-05-10T11:43:34.193971Z",
     "end_time": "2023-05-10T11:43:34.260889Z"
    }
   }
  },
  {
   "cell_type": "code",
   "execution_count": 107,
   "outputs": [
    {
     "ename": "TypeError",
     "evalue": "'method' object is not subscriptable",
     "output_type": "error",
     "traceback": [
      "\u001B[0;31m---------------------------------------------------------------------------\u001B[0m",
      "\u001B[0;31mTypeError\u001B[0m                                 Traceback (most recent call last)",
      "Cell \u001B[0;32mIn[107], line 1\u001B[0m\n\u001B[0;32m----> 1\u001B[0m \u001B[43mall_enduses\u001B[49m\u001B[38;5;241;43m.\u001B[39;49m\u001B[43mhead\u001B[49m\u001B[43m(\u001B[49m\u001B[43m)\u001B[49m\u001B[38;5;241;43m.\u001B[39;49m\u001B[43mgroupby\u001B[49m\u001B[43m[\u001B[49m\u001B[38;5;124;43m\"\u001B[39;49m\u001B[38;5;124;43mcountry\u001B[39;49m\u001B[38;5;124;43m\"\u001B[39;49m\u001B[43m]\u001B[49m\n",
      "\u001B[0;31mTypeError\u001B[0m: 'method' object is not subscriptable"
     ]
    }
   ],
   "source": [
    "all_enduses.head().groupby[\"country\"]"
   ],
   "metadata": {
    "collapsed": false,
    "ExecuteTime": {
     "start_time": "2023-05-10T14:41:22.852380Z",
     "end_time": "2023-05-10T14:41:22.868462Z"
    }
   }
  },
  {
   "cell_type": "code",
   "execution_count": 158,
   "outputs": [],
   "source": [
    "country_material_enduse = {}\n",
    "for country in all_enduses.groupby(\"country\"):\n",
    "    # print(country[0])\n",
    "    country_material_enduse[country[0]] = {}\n",
    "    for material in country[1].groupby(\"MISO_material\"):\n",
    "        # print(material[0])\n",
    "        country_material_enduse[country[0]][material[0]] = []\n",
    "        for enduse in correspondence_gloria_to_exio.keys():\n",
    "            # print(material[1][[enduse, \"year\"]])\n",
    "            pivoted = pd.pivot(material[1][[enduse, \"year\"]], columns=\"year\", values=enduse)\n",
    "            pivoted[\"Enduse\"] = enduse\n",
    "            pivoted = pivoted.set_index(\"Enduse\")\n",
    "            country_material_enduse[country[0]][material[0]].append(pivoted)\n",
    "        country_material_enduse[country[0]][material[0]] = pd.concat(country_material_enduse[country[0]][material[0]])\n",
    "            #all_enduses.head().groupby([\"country\"]).apply(lambda x : pivot_enduse(x))"
   ],
   "metadata": {
    "collapsed": false,
    "ExecuteTime": {
     "start_time": "2023-05-10T14:59:36.896663Z",
     "end_time": "2023-05-10T15:00:07.359775Z"
    }
   }
  },
  {
   "cell_type": "code",
   "execution_count": null,
   "outputs": [],
   "source": [],
   "metadata": {
    "collapsed": false
   }
  },
  {
   "cell_type": "code",
   "execution_count": 151,
   "outputs": [],
   "source": [
    "pivoted[\"Enduse\"] = \"Buildings\""
   ],
   "metadata": {
    "collapsed": false,
    "ExecuteTime": {
     "start_time": "2023-05-10T14:56:25.886703Z",
     "end_time": "2023-05-10T14:56:25.891733Z"
    }
   }
  },
  {
   "cell_type": "code",
   "execution_count": 153,
   "outputs": [
    {
     "data": {
      "text/plain": "year           1990      1991     1992      1993      1994      1995  \\\nEnduse                                                                 \nBuildings  5.448474  7.527481  3.98568  3.691335  4.778522  1.475636   \n\nyear           1996      1997      1998      1999  ...      2011      2012  \\\nEnduse                                             ...                       \nBuildings  1.465794  1.461536  1.793411  1.155526  ...  1.549872  1.202548   \n\nyear           2013      2014      2015     2016      2017      2018  \\\nEnduse                                                                 \nBuildings  0.819035  2.018615  0.729611  0.67058  0.781754  3.541813   \n\nyear           2019      2020  \nEnduse                         \nBuildings  1.638757  1.440605  \n\n[1 rows x 31 columns]",
      "text/html": "<div>\n<style scoped>\n    .dataframe tbody tr th:only-of-type {\n        vertical-align: middle;\n    }\n\n    .dataframe tbody tr th {\n        vertical-align: top;\n    }\n\n    .dataframe thead th {\n        text-align: right;\n    }\n</style>\n<table border=\"1\" class=\"dataframe\">\n  <thead>\n    <tr style=\"text-align: right;\">\n      <th>year</th>\n      <th>1990</th>\n      <th>1991</th>\n      <th>1992</th>\n      <th>1993</th>\n      <th>1994</th>\n      <th>1995</th>\n      <th>1996</th>\n      <th>1997</th>\n      <th>1998</th>\n      <th>1999</th>\n      <th>...</th>\n      <th>2011</th>\n      <th>2012</th>\n      <th>2013</th>\n      <th>2014</th>\n      <th>2015</th>\n      <th>2016</th>\n      <th>2017</th>\n      <th>2018</th>\n      <th>2019</th>\n      <th>2020</th>\n    </tr>\n    <tr>\n      <th>Enduse</th>\n      <th></th>\n      <th></th>\n      <th></th>\n      <th></th>\n      <th></th>\n      <th></th>\n      <th></th>\n      <th></th>\n      <th></th>\n      <th></th>\n      <th></th>\n      <th></th>\n      <th></th>\n      <th></th>\n      <th></th>\n      <th></th>\n      <th></th>\n      <th></th>\n      <th></th>\n      <th></th>\n      <th></th>\n    </tr>\n  </thead>\n  <tbody>\n    <tr>\n      <th>Buildings</th>\n      <td>5.448474</td>\n      <td>7.527481</td>\n      <td>3.98568</td>\n      <td>3.691335</td>\n      <td>4.778522</td>\n      <td>1.475636</td>\n      <td>1.465794</td>\n      <td>1.461536</td>\n      <td>1.793411</td>\n      <td>1.155526</td>\n      <td>...</td>\n      <td>1.549872</td>\n      <td>1.202548</td>\n      <td>0.819035</td>\n      <td>2.018615</td>\n      <td>0.729611</td>\n      <td>0.67058</td>\n      <td>0.781754</td>\n      <td>3.541813</td>\n      <td>1.638757</td>\n      <td>1.440605</td>\n    </tr>\n  </tbody>\n</table>\n<p>1 rows × 31 columns</p>\n</div>"
     },
     "execution_count": 153,
     "metadata": {},
     "output_type": "execute_result"
    }
   ],
   "source": [
    "pivoted.set_index([\"Enduse\"])"
   ],
   "metadata": {
    "collapsed": false,
    "ExecuteTime": {
     "start_time": "2023-05-10T14:56:34.509697Z",
     "end_time": "2023-05-10T14:56:34.512434Z"
    }
   }
  },
  {
   "cell_type": "code",
   "execution_count": 159,
   "outputs": [
    {
     "data": {
      "text/plain": "year                                             1990       1991       1992  \\\nEnduse                                                                        \nBuildings                                   35.882410  32.987833  30.986276   \nCivil_engineering_except_roads              52.366974  51.887016  52.650539   \nMachinery_and_equipment                      0.324601   0.457689   0.417798   \nComputers_and_precision_instruments          0.009937   0.012039   0.011630   \nElectrical_equipment                         0.016677   0.022982   0.022331   \nMotor_vehicles_trailers_and_semi.trailers    0.006105   0.008121   0.006551   \nOther_transport_equipment                    0.008064   0.008124   0.006977   \nFurniture_and_other_manufactured_goods_nec   3.436288   4.093046   3.584968   \nPrinted_matter_and_recorded_media            0.056018   0.080359   0.082170   \nFood_packaging                               0.234119   0.305050   0.359260   \nProducts_nec                                 7.658614  10.137562  11.871311   \n\nyear                                             1993       1994       1995  \\\nEnduse                                                                        \nBuildings                                   31.936691  38.817630  32.054381   \nCivil_engineering_except_roads              53.912244  53.737126  61.052939   \nMachinery_and_equipment                      0.302330   0.259339   1.783982   \nComputers_and_precision_instruments          0.010176   0.003713   1.071603   \nElectrical_equipment                         0.018660   0.009313   0.175012   \nMotor_vehicles_trailers_and_semi.trailers    0.005835   0.003557   0.194914   \nOther_transport_equipment                    0.006191   0.003916   0.694012   \nFurniture_and_other_manufactured_goods_nec   3.066349   2.721366   0.734709   \nPrinted_matter_and_recorded_media            0.061340   0.028782   0.180420   \nFood_packaging                               0.321701   0.135601   0.904274   \nProducts_nec                                10.358381   4.279596   0.971040   \n\nyear                                             1996       1997       1998  \\\nEnduse                                                                        \nBuildings                                   36.829304  37.552014  39.531426   \nCivil_engineering_except_roads              56.070954  55.808473  53.638916   \nMachinery_and_equipment                      1.961519   1.932281   1.979767   \nComputers_and_precision_instruments          1.100704   0.918958   0.897477   \nElectrical_equipment                         0.187567   0.168100   0.168080   \nMotor_vehicles_trailers_and_semi.trailers    0.190520   0.147755   0.163565   \nOther_transport_equipment                    0.652430   0.478827   0.498502   \nFurniture_and_other_manufactured_goods_nec   0.680633   0.664282   0.711055   \nPrinted_matter_and_recorded_media            0.172040   0.164054   0.201485   \nFood_packaging                               0.974964   1.023425   1.083975   \nProducts_nec                                 0.988044   0.953433   0.957323   \n\nyear                                             1999  ...       2011  \\\nEnduse                                                 ...              \nBuildings                                   38.641707  ...  38.203247   \nCivil_engineering_except_roads              54.718076  ...  54.678188   \nMachinery_and_equipment                      2.148245  ...   2.289899   \nComputers_and_precision_instruments          0.787314  ...   0.275361   \nElectrical_equipment                         0.165414  ...   0.122113   \nMotor_vehicles_trailers_and_semi.trailers    0.126803  ...   0.095883   \nOther_transport_equipment                    0.356788  ...   0.119939   \nFurniture_and_other_manufactured_goods_nec   0.756924  ...   0.558773   \nPrinted_matter_and_recorded_media            0.195766  ...   0.098971   \nFood_packaging                               1.031572  ...   2.062903   \nProducts_nec                                 0.910205  ...   1.374962   \n\nyear                                             2012       2013       2014  \\\nEnduse                                                                        \nBuildings                                   38.730447  39.441446  39.498820   \nCivil_engineering_except_roads              55.089180  55.323168  55.472428   \nMachinery_and_equipment                      2.077608   1.890105   1.896308   \nComputers_and_precision_instruments          0.195529   0.139288   0.120463   \nElectrical_equipment                         0.097855   0.084778   0.092753   \nMotor_vehicles_trailers_and_semi.trailers    0.069468   0.050953   0.059500   \nOther_transport_equipment                    0.099151   0.080205   0.064853   \nFurniture_and_other_manufactured_goods_nec   0.493625   0.473010   0.450925   \nPrinted_matter_and_recorded_media            0.088658   0.065811   0.067304   \nFood_packaging                               1.836137   1.587506   1.757120   \nProducts_nec                                 1.108567   0.768837   0.423435   \n\nyear                                             2015       2016       2017  \\\nEnduse                                                                        \nBuildings                                   39.599022  40.370439  40.933525   \nCivil_engineering_except_roads              55.469887  55.053306  54.583161   \nMachinery_and_equipment                      1.885658   1.723127   1.733484   \nComputers_and_precision_instruments          0.109114   0.090502   0.109593   \nElectrical_equipment                         0.095704   0.089017   0.068836   \nMotor_vehicles_trailers_and_semi.trailers    0.041530   0.024036   0.032365   \nOther_transport_equipment                    0.102950   0.099063   0.085689   \nFurniture_and_other_manufactured_goods_nec   0.432723   0.442223   0.408016   \nPrinted_matter_and_recorded_media            0.062021   0.059612   0.052252   \nFood_packaging                               1.754720   1.583799   1.545856   \nProducts_nec                                 0.351808   0.392100   0.381107   \n\nyear                                             2018       2019       2020  \nEnduse                                                                       \nBuildings                                   40.808151  39.611149  39.715033  \nCivil_engineering_except_roads              54.737727  58.664352  57.732367  \nMachinery_and_equipment                      1.675379   0.482150   0.855584  \nComputers_and_precision_instruments          0.102345   0.053071   0.056871  \nElectrical_equipment                         0.059681   0.038653   0.035249  \nMotor_vehicles_trailers_and_semi.trailers    0.033971   0.014545   0.020222  \nOther_transport_equipment                    0.084233   0.024644   0.043748  \nFurniture_and_other_manufactured_goods_nec   0.416436   0.323753   0.305648  \nPrinted_matter_and_recorded_media            0.047383   0.023514   0.030689  \nFood_packaging                               1.540426   0.604874   0.917606  \nProducts_nec                                 0.427630   0.141291   0.266721  \n\n[11 rows x 31 columns]",
      "text/html": "<div>\n<style scoped>\n    .dataframe tbody tr th:only-of-type {\n        vertical-align: middle;\n    }\n\n    .dataframe tbody tr th {\n        vertical-align: top;\n    }\n\n    .dataframe thead th {\n        text-align: right;\n    }\n</style>\n<table border=\"1\" class=\"dataframe\">\n  <thead>\n    <tr style=\"text-align: right;\">\n      <th>year</th>\n      <th>1990</th>\n      <th>1991</th>\n      <th>1992</th>\n      <th>1993</th>\n      <th>1994</th>\n      <th>1995</th>\n      <th>1996</th>\n      <th>1997</th>\n      <th>1998</th>\n      <th>1999</th>\n      <th>...</th>\n      <th>2011</th>\n      <th>2012</th>\n      <th>2013</th>\n      <th>2014</th>\n      <th>2015</th>\n      <th>2016</th>\n      <th>2017</th>\n      <th>2018</th>\n      <th>2019</th>\n      <th>2020</th>\n    </tr>\n    <tr>\n      <th>Enduse</th>\n      <th></th>\n      <th></th>\n      <th></th>\n      <th></th>\n      <th></th>\n      <th></th>\n      <th></th>\n      <th></th>\n      <th></th>\n      <th></th>\n      <th></th>\n      <th></th>\n      <th></th>\n      <th></th>\n      <th></th>\n      <th></th>\n      <th></th>\n      <th></th>\n      <th></th>\n      <th></th>\n      <th></th>\n    </tr>\n  </thead>\n  <tbody>\n    <tr>\n      <th>Buildings</th>\n      <td>35.882410</td>\n      <td>32.987833</td>\n      <td>30.986276</td>\n      <td>31.936691</td>\n      <td>38.817630</td>\n      <td>32.054381</td>\n      <td>36.829304</td>\n      <td>37.552014</td>\n      <td>39.531426</td>\n      <td>38.641707</td>\n      <td>...</td>\n      <td>38.203247</td>\n      <td>38.730447</td>\n      <td>39.441446</td>\n      <td>39.498820</td>\n      <td>39.599022</td>\n      <td>40.370439</td>\n      <td>40.933525</td>\n      <td>40.808151</td>\n      <td>39.611149</td>\n      <td>39.715033</td>\n    </tr>\n    <tr>\n      <th>Civil_engineering_except_roads</th>\n      <td>52.366974</td>\n      <td>51.887016</td>\n      <td>52.650539</td>\n      <td>53.912244</td>\n      <td>53.737126</td>\n      <td>61.052939</td>\n      <td>56.070954</td>\n      <td>55.808473</td>\n      <td>53.638916</td>\n      <td>54.718076</td>\n      <td>...</td>\n      <td>54.678188</td>\n      <td>55.089180</td>\n      <td>55.323168</td>\n      <td>55.472428</td>\n      <td>55.469887</td>\n      <td>55.053306</td>\n      <td>54.583161</td>\n      <td>54.737727</td>\n      <td>58.664352</td>\n      <td>57.732367</td>\n    </tr>\n    <tr>\n      <th>Machinery_and_equipment</th>\n      <td>0.324601</td>\n      <td>0.457689</td>\n      <td>0.417798</td>\n      <td>0.302330</td>\n      <td>0.259339</td>\n      <td>1.783982</td>\n      <td>1.961519</td>\n      <td>1.932281</td>\n      <td>1.979767</td>\n      <td>2.148245</td>\n      <td>...</td>\n      <td>2.289899</td>\n      <td>2.077608</td>\n      <td>1.890105</td>\n      <td>1.896308</td>\n      <td>1.885658</td>\n      <td>1.723127</td>\n      <td>1.733484</td>\n      <td>1.675379</td>\n      <td>0.482150</td>\n      <td>0.855584</td>\n    </tr>\n    <tr>\n      <th>Computers_and_precision_instruments</th>\n      <td>0.009937</td>\n      <td>0.012039</td>\n      <td>0.011630</td>\n      <td>0.010176</td>\n      <td>0.003713</td>\n      <td>1.071603</td>\n      <td>1.100704</td>\n      <td>0.918958</td>\n      <td>0.897477</td>\n      <td>0.787314</td>\n      <td>...</td>\n      <td>0.275361</td>\n      <td>0.195529</td>\n      <td>0.139288</td>\n      <td>0.120463</td>\n      <td>0.109114</td>\n      <td>0.090502</td>\n      <td>0.109593</td>\n      <td>0.102345</td>\n      <td>0.053071</td>\n      <td>0.056871</td>\n    </tr>\n    <tr>\n      <th>Electrical_equipment</th>\n      <td>0.016677</td>\n      <td>0.022982</td>\n      <td>0.022331</td>\n      <td>0.018660</td>\n      <td>0.009313</td>\n      <td>0.175012</td>\n      <td>0.187567</td>\n      <td>0.168100</td>\n      <td>0.168080</td>\n      <td>0.165414</td>\n      <td>...</td>\n      <td>0.122113</td>\n      <td>0.097855</td>\n      <td>0.084778</td>\n      <td>0.092753</td>\n      <td>0.095704</td>\n      <td>0.089017</td>\n      <td>0.068836</td>\n      <td>0.059681</td>\n      <td>0.038653</td>\n      <td>0.035249</td>\n    </tr>\n    <tr>\n      <th>Motor_vehicles_trailers_and_semi.trailers</th>\n      <td>0.006105</td>\n      <td>0.008121</td>\n      <td>0.006551</td>\n      <td>0.005835</td>\n      <td>0.003557</td>\n      <td>0.194914</td>\n      <td>0.190520</td>\n      <td>0.147755</td>\n      <td>0.163565</td>\n      <td>0.126803</td>\n      <td>...</td>\n      <td>0.095883</td>\n      <td>0.069468</td>\n      <td>0.050953</td>\n      <td>0.059500</td>\n      <td>0.041530</td>\n      <td>0.024036</td>\n      <td>0.032365</td>\n      <td>0.033971</td>\n      <td>0.014545</td>\n      <td>0.020222</td>\n    </tr>\n    <tr>\n      <th>Other_transport_equipment</th>\n      <td>0.008064</td>\n      <td>0.008124</td>\n      <td>0.006977</td>\n      <td>0.006191</td>\n      <td>0.003916</td>\n      <td>0.694012</td>\n      <td>0.652430</td>\n      <td>0.478827</td>\n      <td>0.498502</td>\n      <td>0.356788</td>\n      <td>...</td>\n      <td>0.119939</td>\n      <td>0.099151</td>\n      <td>0.080205</td>\n      <td>0.064853</td>\n      <td>0.102950</td>\n      <td>0.099063</td>\n      <td>0.085689</td>\n      <td>0.084233</td>\n      <td>0.024644</td>\n      <td>0.043748</td>\n    </tr>\n    <tr>\n      <th>Furniture_and_other_manufactured_goods_nec</th>\n      <td>3.436288</td>\n      <td>4.093046</td>\n      <td>3.584968</td>\n      <td>3.066349</td>\n      <td>2.721366</td>\n      <td>0.734709</td>\n      <td>0.680633</td>\n      <td>0.664282</td>\n      <td>0.711055</td>\n      <td>0.756924</td>\n      <td>...</td>\n      <td>0.558773</td>\n      <td>0.493625</td>\n      <td>0.473010</td>\n      <td>0.450925</td>\n      <td>0.432723</td>\n      <td>0.442223</td>\n      <td>0.408016</td>\n      <td>0.416436</td>\n      <td>0.323753</td>\n      <td>0.305648</td>\n    </tr>\n    <tr>\n      <th>Printed_matter_and_recorded_media</th>\n      <td>0.056018</td>\n      <td>0.080359</td>\n      <td>0.082170</td>\n      <td>0.061340</td>\n      <td>0.028782</td>\n      <td>0.180420</td>\n      <td>0.172040</td>\n      <td>0.164054</td>\n      <td>0.201485</td>\n      <td>0.195766</td>\n      <td>...</td>\n      <td>0.098971</td>\n      <td>0.088658</td>\n      <td>0.065811</td>\n      <td>0.067304</td>\n      <td>0.062021</td>\n      <td>0.059612</td>\n      <td>0.052252</td>\n      <td>0.047383</td>\n      <td>0.023514</td>\n      <td>0.030689</td>\n    </tr>\n    <tr>\n      <th>Food_packaging</th>\n      <td>0.234119</td>\n      <td>0.305050</td>\n      <td>0.359260</td>\n      <td>0.321701</td>\n      <td>0.135601</td>\n      <td>0.904274</td>\n      <td>0.974964</td>\n      <td>1.023425</td>\n      <td>1.083975</td>\n      <td>1.031572</td>\n      <td>...</td>\n      <td>2.062903</td>\n      <td>1.836137</td>\n      <td>1.587506</td>\n      <td>1.757120</td>\n      <td>1.754720</td>\n      <td>1.583799</td>\n      <td>1.545856</td>\n      <td>1.540426</td>\n      <td>0.604874</td>\n      <td>0.917606</td>\n    </tr>\n    <tr>\n      <th>Products_nec</th>\n      <td>7.658614</td>\n      <td>10.137562</td>\n      <td>11.871311</td>\n      <td>10.358381</td>\n      <td>4.279596</td>\n      <td>0.971040</td>\n      <td>0.988044</td>\n      <td>0.953433</td>\n      <td>0.957323</td>\n      <td>0.910205</td>\n      <td>...</td>\n      <td>1.374962</td>\n      <td>1.108567</td>\n      <td>0.768837</td>\n      <td>0.423435</td>\n      <td>0.351808</td>\n      <td>0.392100</td>\n      <td>0.381107</td>\n      <td>0.427630</td>\n      <td>0.141291</td>\n      <td>0.266721</td>\n    </tr>\n  </tbody>\n</table>\n<p>11 rows × 31 columns</p>\n</div>"
     },
     "execution_count": 159,
     "metadata": {},
     "output_type": "execute_result"
    }
   ],
   "source": [
    "country_material_enduse[\"New Zealand\"][\"Bricks\"]"
   ],
   "metadata": {
    "collapsed": false,
    "ExecuteTime": {
     "start_time": "2023-05-10T15:00:56.355453Z",
     "end_time": "2023-05-10T15:00:56.380441Z"
    }
   }
  },
  {
   "cell_type": "code",
   "execution_count": 101,
   "outputs": [
    {
     "data": {
      "text/plain": "dict_keys(['Buildings', 'Civil_engineering_except_roads', 'Machinery_and_equipment', 'Computers_and_precision_instruments', 'Electrical_equipment', 'Motor_vehicles_trailers_and_semi.trailers', 'Other_transport_equipment', 'Furniture_and_other_manufactured_goods_nec', 'Printed_matter_and_recorded_media', 'Food_packaging', 'Products_nec'])"
     },
     "execution_count": 101,
     "metadata": {},
     "output_type": "execute_result"
    }
   ],
   "source": [],
   "metadata": {
    "collapsed": false,
    "ExecuteTime": {
     "start_time": "2023-05-10T14:33:07.698341Z",
     "end_time": "2023-05-10T14:33:07.701140Z"
    }
   }
  },
  {
   "cell_type": "code",
   "execution_count": null,
   "outputs": [],
   "source": [
    "# if value already in columns: add up to that column\n",
    "# if value not already there, rename\n",
    "# if multiple, aggregate / sum?"
   ],
   "metadata": {
    "collapsed": false
   }
  },
  {
   "cell_type": "code",
   "execution_count": 80,
   "outputs": [
    {
     "data": {
      "text/plain": "   MISO_material                             GLORIA_material  Buildings  \\\n0       Concrete           Cement, lime and plaster products  14.091759   \n1         Bricks  Other non-metallic mineral products n.e.c.  37.552014   \n2      Container  Other non-metallic mineral products n.e.c.  37.552014   \n3           Flat  Other non-metallic mineral products n.e.c.  37.552014   \n4      IronSteel                        Basic iron and steel  11.287009   \n..           ...                                         ...        ...   \n12           Tin                                   Basic tin  10.154818   \n13       Asphalt  Other non-metallic mineral products n.e.c.  22.063428   \n14      Plastics                            Plastic products  23.694039   \n15          Wood                            Sawmill products  18.887071   \n16         Paper                              Pulp and paper  16.233806   \n\n    Civil_engineering_except_roads  Machinery_and_equipment  \\\n0                        23.344272                 0.788621   \n1                        55.808473                 1.932281   \n2                        55.808473                 1.932281   \n3                        55.808473                 1.932281   \n4                        17.076661                34.701894   \n..                             ...                      ...   \n12                       10.141434                27.067172   \n13                       21.997343                 5.417365   \n14                       23.459138                 4.914913   \n15                       18.755463                 4.529308   \n16                       16.215232                 5.317601   \n\n    Computers_and_precision_instruments  Electrical_equipment  \\\n0                              0.585482              1.568394   \n1                              0.918958              0.168100   \n2                              0.918958              0.168100   \n3                              0.918958              0.168100   \n4                              1.985010              6.949625   \n..                                  ...                   ...   \n12                             0.349213              4.099616   \n13                             0.015162              0.414603   \n14                             0.105492              0.778003   \n15                             0.025987              0.426170   \n16                             0.009913              0.348043   \n\n    Motor_vehicles_trailers_and_semi.trailers  Other_transport_equipment  \\\n0                                    0.096311                   0.306157   \n1                                    0.147755                   0.478827   \n2                                    0.147755                   0.478827   \n3                                    0.147755                   0.478827   \n4                                    2.479149                   6.598667   \n..                                        ...                        ...   \n12                                   6.913809                   0.600443   \n13                                   2.899776                   0.065708   \n14                                   2.434960                   0.187042   \n15                                   2.385596                   0.061155   \n16                                   3.031544                   0.051911   \n\n    Furniture_and_other_manufactured_goods_nec  Textiles  \\\n0                                     0.263484  0.718305   \n1                                     0.664282  0.188396   \n2                                     0.664282  0.188396   \n3                                     0.664282  0.188396   \n4                                     5.618581  1.165045   \n..                                         ...       ...   \n12                                   36.973773  0.279502   \n13                                   27.700802  1.185146   \n14                                   16.549775  1.765877   \n15                                   30.692426  0.735326   \n16                                   42.311768  0.598554   \n\n    Printed_matter_and_recorded_media  Food_packaging  Products_nec  \\\n0                            0.172664       57.347542      0.717009   \n1                            0.164054        1.023425      0.953433   \n2                            0.164054        1.023425      0.953433   \n3                            0.164054        1.023425      0.953433   \n4                            0.953489        9.111869      2.072999   \n..                                ...             ...           ...   \n12                           0.148428        1.974455      1.297338   \n13                           0.446889        6.703815     11.089961   \n14                           0.511672        9.705490     15.893600   \n15                           3.678351       15.734399      4.088748   \n16                           2.511356       10.118480      3.251793   \n\n        country  \n0   New Zealand  \n1   New Zealand  \n2   New Zealand  \n3   New Zealand  \n4   New Zealand  \n..          ...  \n12       Brunei  \n13       Brunei  \n14       Brunei  \n15       Brunei  \n16       Brunei  \n\n[93279 rows x 15 columns]",
      "text/html": "<div>\n<style scoped>\n    .dataframe tbody tr th:only-of-type {\n        vertical-align: middle;\n    }\n\n    .dataframe tbody tr th {\n        vertical-align: top;\n    }\n\n    .dataframe thead th {\n        text-align: right;\n    }\n</style>\n<table border=\"1\" class=\"dataframe\">\n  <thead>\n    <tr style=\"text-align: right;\">\n      <th></th>\n      <th>MISO_material</th>\n      <th>GLORIA_material</th>\n      <th>Buildings</th>\n      <th>Civil_engineering_except_roads</th>\n      <th>Machinery_and_equipment</th>\n      <th>Computers_and_precision_instruments</th>\n      <th>Electrical_equipment</th>\n      <th>Motor_vehicles_trailers_and_semi.trailers</th>\n      <th>Other_transport_equipment</th>\n      <th>Furniture_and_other_manufactured_goods_nec</th>\n      <th>Textiles</th>\n      <th>Printed_matter_and_recorded_media</th>\n      <th>Food_packaging</th>\n      <th>Products_nec</th>\n      <th>country</th>\n    </tr>\n  </thead>\n  <tbody>\n    <tr>\n      <th>0</th>\n      <td>Concrete</td>\n      <td>Cement, lime and plaster products</td>\n      <td>14.091759</td>\n      <td>23.344272</td>\n      <td>0.788621</td>\n      <td>0.585482</td>\n      <td>1.568394</td>\n      <td>0.096311</td>\n      <td>0.306157</td>\n      <td>0.263484</td>\n      <td>0.718305</td>\n      <td>0.172664</td>\n      <td>57.347542</td>\n      <td>0.717009</td>\n      <td>New Zealand</td>\n    </tr>\n    <tr>\n      <th>1</th>\n      <td>Bricks</td>\n      <td>Other non-metallic mineral products n.e.c.</td>\n      <td>37.552014</td>\n      <td>55.808473</td>\n      <td>1.932281</td>\n      <td>0.918958</td>\n      <td>0.168100</td>\n      <td>0.147755</td>\n      <td>0.478827</td>\n      <td>0.664282</td>\n      <td>0.188396</td>\n      <td>0.164054</td>\n      <td>1.023425</td>\n      <td>0.953433</td>\n      <td>New Zealand</td>\n    </tr>\n    <tr>\n      <th>2</th>\n      <td>Container</td>\n      <td>Other non-metallic mineral products n.e.c.</td>\n      <td>37.552014</td>\n      <td>55.808473</td>\n      <td>1.932281</td>\n      <td>0.918958</td>\n      <td>0.168100</td>\n      <td>0.147755</td>\n      <td>0.478827</td>\n      <td>0.664282</td>\n      <td>0.188396</td>\n      <td>0.164054</td>\n      <td>1.023425</td>\n      <td>0.953433</td>\n      <td>New Zealand</td>\n    </tr>\n    <tr>\n      <th>3</th>\n      <td>Flat</td>\n      <td>Other non-metallic mineral products n.e.c.</td>\n      <td>37.552014</td>\n      <td>55.808473</td>\n      <td>1.932281</td>\n      <td>0.918958</td>\n      <td>0.168100</td>\n      <td>0.147755</td>\n      <td>0.478827</td>\n      <td>0.664282</td>\n      <td>0.188396</td>\n      <td>0.164054</td>\n      <td>1.023425</td>\n      <td>0.953433</td>\n      <td>New Zealand</td>\n    </tr>\n    <tr>\n      <th>4</th>\n      <td>IronSteel</td>\n      <td>Basic iron and steel</td>\n      <td>11.287009</td>\n      <td>17.076661</td>\n      <td>34.701894</td>\n      <td>1.985010</td>\n      <td>6.949625</td>\n      <td>2.479149</td>\n      <td>6.598667</td>\n      <td>5.618581</td>\n      <td>1.165045</td>\n      <td>0.953489</td>\n      <td>9.111869</td>\n      <td>2.072999</td>\n      <td>New Zealand</td>\n    </tr>\n    <tr>\n      <th>...</th>\n      <td>...</td>\n      <td>...</td>\n      <td>...</td>\n      <td>...</td>\n      <td>...</td>\n      <td>...</td>\n      <td>...</td>\n      <td>...</td>\n      <td>...</td>\n      <td>...</td>\n      <td>...</td>\n      <td>...</td>\n      <td>...</td>\n      <td>...</td>\n      <td>...</td>\n    </tr>\n    <tr>\n      <th>12</th>\n      <td>Tin</td>\n      <td>Basic tin</td>\n      <td>10.154818</td>\n      <td>10.141434</td>\n      <td>27.067172</td>\n      <td>0.349213</td>\n      <td>4.099616</td>\n      <td>6.913809</td>\n      <td>0.600443</td>\n      <td>36.973773</td>\n      <td>0.279502</td>\n      <td>0.148428</td>\n      <td>1.974455</td>\n      <td>1.297338</td>\n      <td>Brunei</td>\n    </tr>\n    <tr>\n      <th>13</th>\n      <td>Asphalt</td>\n      <td>Other non-metallic mineral products n.e.c.</td>\n      <td>22.063428</td>\n      <td>21.997343</td>\n      <td>5.417365</td>\n      <td>0.015162</td>\n      <td>0.414603</td>\n      <td>2.899776</td>\n      <td>0.065708</td>\n      <td>27.700802</td>\n      <td>1.185146</td>\n      <td>0.446889</td>\n      <td>6.703815</td>\n      <td>11.089961</td>\n      <td>Brunei</td>\n    </tr>\n    <tr>\n      <th>14</th>\n      <td>Plastics</td>\n      <td>Plastic products</td>\n      <td>23.694039</td>\n      <td>23.459138</td>\n      <td>4.914913</td>\n      <td>0.105492</td>\n      <td>0.778003</td>\n      <td>2.434960</td>\n      <td>0.187042</td>\n      <td>16.549775</td>\n      <td>1.765877</td>\n      <td>0.511672</td>\n      <td>9.705490</td>\n      <td>15.893600</td>\n      <td>Brunei</td>\n    </tr>\n    <tr>\n      <th>15</th>\n      <td>Wood</td>\n      <td>Sawmill products</td>\n      <td>18.887071</td>\n      <td>18.755463</td>\n      <td>4.529308</td>\n      <td>0.025987</td>\n      <td>0.426170</td>\n      <td>2.385596</td>\n      <td>0.061155</td>\n      <td>30.692426</td>\n      <td>0.735326</td>\n      <td>3.678351</td>\n      <td>15.734399</td>\n      <td>4.088748</td>\n      <td>Brunei</td>\n    </tr>\n    <tr>\n      <th>16</th>\n      <td>Paper</td>\n      <td>Pulp and paper</td>\n      <td>16.233806</td>\n      <td>16.215232</td>\n      <td>5.317601</td>\n      <td>0.009913</td>\n      <td>0.348043</td>\n      <td>3.031544</td>\n      <td>0.051911</td>\n      <td>42.311768</td>\n      <td>0.598554</td>\n      <td>2.511356</td>\n      <td>10.118480</td>\n      <td>3.251793</td>\n      <td>Brunei</td>\n    </tr>\n  </tbody>\n</table>\n<p>93279 rows × 15 columns</p>\n</div>"
     },
     "execution_count": 80,
     "metadata": {},
     "output_type": "execute_result"
    }
   ],
   "source": [
    "all_enduses"
   ],
   "metadata": {
    "collapsed": false,
    "ExecuteTime": {
     "start_time": "2023-05-10T14:14:51.187098Z",
     "end_time": "2023-05-10T14:14:51.199098Z"
    }
   }
  },
  {
   "cell_type": "code",
   "execution_count": null,
   "outputs": [],
   "source": [],
   "metadata": {
    "collapsed": false
   }
  }
 ],
 "metadata": {
  "kernelspec": {
   "display_name": "Python 3",
   "language": "python",
   "name": "python3"
  },
  "language_info": {
   "codemirror_mode": {
    "name": "ipython",
    "version": 2
   },
   "file_extension": ".py",
   "mimetype": "text/x-python",
   "name": "python",
   "nbconvert_exporter": "python",
   "pygments_lexer": "ipython2",
   "version": "2.7.6"
  }
 },
 "nbformat": 4,
 "nbformat_minor": 0
}
